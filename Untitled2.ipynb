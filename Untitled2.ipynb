{
 "cells": [
  {
   "cell_type": "code",
   "execution_count": 9,
   "id": "69c6e4ac",
   "metadata": {},
   "outputs": [],
   "source": [
    "import pandas as pd\n",
    "import geopandas as gpd\n",
    "import geoplot as gplt\n",
    "import geoplot.crs as gcrs\n",
    "import matplotlib.pyplot as plt\n",
    "import mapclassify as mc\n",
    "import seaborn as sns\n",
    "from matplotlib.colors import LinearSegmentedColormap\n",
    "from shapely.geometry import MultiPoint, Point\n",
    "from PIL import Image\n",
    "import numpy as np"
   ]
  },
  {
   "cell_type": "code",
   "execution_count": 21,
   "id": "195b2730",
   "metadata": {},
   "outputs": [
    {
     "name": "stdout",
     "output_type": "stream",
     "text": [
      "Original size : (462, 604)\n"
     ]
    }
   ],
   "source": [
    "Fig_1A = Image.open('fig1 A.png')\n",
    "print(f\"Original size : {Fig_1A.size}\")"
   ]
  },
  {
   "cell_type": "code",
   "execution_count": 20,
   "id": "92829d02",
   "metadata": {},
   "outputs": [
    {
     "name": "stdout",
     "output_type": "stream",
     "text": [
      "Original size : (2184, 2192)\n"
     ]
    }
   ],
   "source": [
    "Fig_1C = Image.open('Fig 1C.PNG')\n",
    "print(f\"Original size : {Fig_1C.size}\")"
   ]
  },
  {
   "cell_type": "code",
   "execution_count": 22,
   "id": "0a908879",
   "metadata": {},
   "outputs": [],
   "source": [
    "sunset_resized = Fig_1A.resize((2184, 2192))\n",
    "sunset_resized.save('Fig_1A_.png')"
   ]
  },
  {
   "cell_type": "code",
   "execution_count": 23,
   "id": "386a7d02",
   "metadata": {},
   "outputs": [],
   "source": [
    "Fig_1A_ = Image.open('Fig_1A_.png')"
   ]
  },
  {
   "cell_type": "code",
   "execution_count": 36,
   "id": "6b001113",
   "metadata": {},
   "outputs": [],
   "source": [
    "from PIL import Image\n",
    "images_list = ['Fig_1A_.png', 'Fig 1C.PNG']\n",
    "imgs = [Image.open(i) for i in images_list]\n",
    "\n",
    "# If you're using an older version of Pillow, you might have to use .size[0] instead of .width\n",
    "# and later on, .size[1] instead of .height\n",
    "min_img_width = min(i.width for i in imgs)\n",
    "\n",
    "total_height = 0\n",
    "for i, img in enumerate(imgs):\n",
    "    # If the image is larger than the minimum width, resize it\n",
    "    if img.width > min_img_width:\n",
    "        imgs[i] = img.resize((min_img_width, int(img.height / img.width * min_img_width)), Image.ANTIALIAS)\n",
    "    total_height += imgs[i].height\n",
    "\n",
    "# I have picked the mode of the first image to be generic. You may have other ideas\n",
    "# Now that we know the total height of all of the resized images, we know the height of our final image\n",
    "img_merge = Image.new(imgs[0].mode, (min_img_width, total_height))\n",
    "y = 0\n",
    "for img in imgs:\n",
    "    img_merge.paste(img, (0, y))\n",
    "\n",
    "    y += img.height\n",
    "img_merge.save('1ac_v.png')"
   ]
  },
  {
   "cell_type": "code",
   "execution_count": 35,
   "id": "48f3f9b2",
   "metadata": {},
   "outputs": [
    {
     "name": "stderr",
     "output_type": "stream",
     "text": [
      "C:\\Users\\user\\AppData\\Local\\Temp\\ipykernel_6636\\1162784065.py:12: DeprecationWarning: ANTIALIAS is deprecated and will be removed in Pillow 10 (2023-07-01). Use Resampling.LANCZOS instead.\n",
      "  imgs1[i] = img.resize((min_img_width, int(img.height / img.width * min_img_width)), Image.ANTIALIAS)\n"
     ]
    }
   ],
   "source": [
    "images_list = ['Fig 1b.png', 'Fig 1D.PNG']\n",
    "imgs1 = [Image.open(i) for i in images_list]\n",
    "\n",
    "# If you're using an older version of Pillow, you might have to use .size[0] instead of .width\n",
    "# and later on, .size[1] instead of .height\n",
    "min_img_width = min(i.width for i in imgs1)\n",
    "\n",
    "total_height = 0\n",
    "for i, img in enumerate(imgs1):\n",
    "    # If the image is larger than the minimum width, resize it\n",
    "    if img.width > min_img_width:\n",
    "        imgs1[i] = img.resize((min_img_width, int(img.height / img.width * min_img_width)), Image.ANTIALIAS)\n",
    "    total_height += imgs1[i].height\n",
    "\n",
    "# I have picked the mode of the first image to be generic. You may have other ideas\n",
    "# Now that we know the total height of all of the resized images, we know the height of our final image\n",
    "img_merge = Image.new(imgs1[0].mode, (min_img_width, total_height))\n",
    "y = 0\n",
    "for img in imgs1:\n",
    "    img_merge.paste(img, (0, y))\n",
    "\n",
    "    y += img.height\n",
    "img_merge.save('1bd_v.png')"
   ]
  },
  {
   "cell_type": "code",
   "execution_count": 43,
   "id": "6cdb8bd2",
   "metadata": {},
   "outputs": [],
   "source": [
    "# define a function for horizontally \n",
    "# concatenating images of different\n",
    "# heights \n",
    "def hconcat_resize(img_list, \n",
    "                   interpolation \n",
    "                   = cv2.INTER_CUBIC):\n",
    "      # take minimum hights\n",
    "    h_min = min(img.shape[0] \n",
    "                for img in img_list)\n",
    "      \n",
    "    # image resizing \n",
    "    im_list_resize = [cv2.resize(img,\n",
    "                       (int(img.shape[1] * h_min / img.shape[0]),\n",
    "                        h_min), interpolation\n",
    "                                 = interpolation) \n",
    "                      for img in img_list]\n",
    "      \n",
    "    # return final image\n",
    "    return cv2.hconcat(im_list_resize)\n",
    "  \n",
    "# function calling\n",
    "img_h_resize = hconcat_resize([img1, img2])\n",
    "  \n",
    "# show the Output image\n",
    "cv2.imshow('hconcat_resize.jpg', img_h_resize)"
   ]
  },
  {
   "cell_type": "code",
   "execution_count": null,
   "id": "c6efb91f",
   "metadata": {},
   "outputs": [],
   "source": []
  },
  {
   "cell_type": "code",
   "execution_count": null,
   "id": "7d8a9dd8",
   "metadata": {},
   "outputs": [],
   "source": []
  }
 ],
 "metadata": {
  "kernelspec": {
   "display_name": "Python 3 (ipykernel)",
   "language": "python",
   "name": "python3"
  },
  "language_info": {
   "codemirror_mode": {
    "name": "ipython",
    "version": 3
   },
   "file_extension": ".py",
   "mimetype": "text/x-python",
   "name": "python",
   "nbconvert_exporter": "python",
   "pygments_lexer": "ipython3",
   "version": "3.10.5"
  }
 },
 "nbformat": 4,
 "nbformat_minor": 5
}
